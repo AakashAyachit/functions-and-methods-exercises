{
 "cells": [
  {
   "cell_type": "code",
   "execution_count": 1,
   "id": "b6a30cb5",
   "metadata": {},
   "outputs": [],
   "source": [
    "#Write a function that computes the volume of a sphere given its radius.\n",
    "\n",
    "def vol(r):\n",
    "    return (4/3)*(3.14)*(r**3)"
   ]
  },
  {
   "cell_type": "code",
   "execution_count": 2,
   "id": "77eded18",
   "metadata": {},
   "outputs": [
    {
     "data": {
      "text/plain": [
       "33.49333333333333"
      ]
     },
     "execution_count": 2,
     "metadata": {},
     "output_type": "execute_result"
    }
   ],
   "source": [
    "vol(2)"
   ]
  },
  {
   "cell_type": "code",
   "execution_count": 3,
   "id": "da467ec8",
   "metadata": {},
   "outputs": [
    {
     "data": {
      "text/plain": [
       "113.03999999999999"
      ]
     },
     "execution_count": 3,
     "metadata": {},
     "output_type": "execute_result"
    }
   ],
   "source": [
    "vol(3)"
   ]
  },
  {
   "cell_type": "code",
   "execution_count": 16,
   "id": "0c71dc03",
   "metadata": {},
   "outputs": [],
   "source": [
    "\n",
    "\n",
    "#Write a function that checks whether a number is in a given range (inclusive of high and low)\n",
    "def check(num,Llimit,Ulimit):\n",
    "   \n",
    "    if num in range(Llimit,Ulimit):\n",
    "        print(f'{num} lies between {Llimit} and {Ulimit}')\n",
    "    else:\n",
    "        print(f'{num} does not lie between {Llimit} and {Ulimit}')"
   ]
  },
  {
   "cell_type": "code",
   "execution_count": 17,
   "id": "769b56f4",
   "metadata": {},
   "outputs": [
    {
     "name": "stdout",
     "output_type": "stream",
     "text": [
      "3 lies between 0 and 4\n"
     ]
    }
   ],
   "source": [
    "check(3,0,4)"
   ]
  },
  {
   "cell_type": "code",
   "execution_count": 18,
   "id": "853af6c3",
   "metadata": {},
   "outputs": [
    {
     "name": "stdout",
     "output_type": "stream",
     "text": [
      "3 does not lie between 0 and 1\n"
     ]
    }
   ],
   "source": [
    "check(3,0,1)"
   ]
  },
  {
   "cell_type": "code",
   "execution_count": 22,
   "id": "aae5527f",
   "metadata": {},
   "outputs": [],
   "source": [
    "\n",
    "\n",
    "#Write a Python function that accepts a string and calculates the number of upper case letters and lower case letters\n",
    "def nos(str):\n",
    "    lcase = 0\n",
    "    ucase = 0\n",
    "    \n",
    "    for char in str:\n",
    "        if char.isupper():\n",
    "            ucase += 1\n",
    "        elif char.islower():\n",
    "            lcase += 1\n",
    "        else:\n",
    "            pass #in case of punctuaction marks which are neither lcase nor ucase\n",
    "        \n",
    "    print(f'the number of uppercase and lowercase characters are {ucase} and {lcase} respectively ')\n",
    "        "
   ]
  },
  {
   "cell_type": "code",
   "execution_count": 20,
   "id": "e396ad72",
   "metadata": {},
   "outputs": [],
   "source": [
    "str = 'My name is Aakash Ayachit and i study in DYPSOE'"
   ]
  },
  {
   "cell_type": "code",
   "execution_count": 23,
   "id": "7adabe23",
   "metadata": {},
   "outputs": [
    {
     "name": "stdout",
     "output_type": "stream",
     "text": [
      "the number of uppercase and lowercase characters are 9 and 29 respectively \n"
     ]
    }
   ],
   "source": [
    "nos(str)"
   ]
  },
  {
   "cell_type": "code",
   "execution_count": 28,
   "id": "b1011d73",
   "metadata": {},
   "outputs": [],
   "source": [
    "\n",
    "\n",
    "#Write a Python function that takes a list and returns a new list with unique elements of the first list.\n",
    "def unique(str):\n",
    "    return set(str)"
   ]
  },
  {
   "cell_type": "code",
   "execution_count": 26,
   "id": "81e4b5f1",
   "metadata": {},
   "outputs": [],
   "source": [
    "str = [1,1,1,1,2,2,2,2,3,3,4,4,4,]"
   ]
  },
  {
   "cell_type": "code",
   "execution_count": 29,
   "id": "3a72370c",
   "metadata": {},
   "outputs": [
    {
     "data": {
      "text/plain": [
       "{1, 2, 3, 4}"
      ]
     },
     "execution_count": 29,
     "metadata": {},
     "output_type": "execute_result"
    }
   ],
   "source": [
    "unique(str)"
   ]
  },
  {
   "cell_type": "code",
   "execution_count": 30,
   "id": "06786f50",
   "metadata": {},
   "outputs": [],
   "source": [
    "\n",
    "\n",
    "#multiply all numbers in list\n",
    "def prod(nos):\n",
    "    total = 1\n",
    "    for num in nos:\n",
    "        total = total * num\n",
    "    return total\n",
    "        \n",
    "    "
   ]
  },
  {
   "cell_type": "code",
   "execution_count": 32,
   "id": "16525470",
   "metadata": {},
   "outputs": [
    {
     "data": {
      "text/plain": [
       "6"
      ]
     },
     "execution_count": 32,
     "metadata": {},
     "output_type": "execute_result"
    }
   ],
   "source": [
    "prod([2,3])"
   ]
  },
  {
   "cell_type": "code",
   "execution_count": 34,
   "id": "629630bf",
   "metadata": {},
   "outputs": [
    {
     "data": {
      "text/plain": [
       "79479429120"
      ]
     },
     "execution_count": 34,
     "metadata": {},
     "output_type": "execute_result"
    }
   ],
   "source": [
    "prod([2,3,4,5,6,7,26,24,54,6,13,6])"
   ]
  },
  {
   "cell_type": "code",
   "execution_count": 47,
   "id": "cd4339ba",
   "metadata": {},
   "outputs": [],
   "source": [
    "\n",
    "\n",
    "#check if phrase is a palindrome -- racecar->racecar reversed\n",
    "def pal(str):\n",
    "    str = str.replace(' ','')#removes blank spaces between two words\n",
    "    \n",
    "    if str == str[::-1]:\n",
    "        print('YES it is palindrome')\n",
    "    else:\n",
    "        print('NO it isnt a palindrome')"
   ]
  },
  {
   "cell_type": "code",
   "execution_count": 48,
   "id": "d8bbcd5c",
   "metadata": {},
   "outputs": [
    {
     "name": "stdout",
     "output_type": "stream",
     "text": [
      "YES it is palindrome\n"
     ]
    }
   ],
   "source": [
    "pal('race car')"
   ]
  },
  {
   "cell_type": "code",
   "execution_count": 49,
   "id": "f19f5377",
   "metadata": {},
   "outputs": [
    {
     "name": "stdout",
     "output_type": "stream",
     "text": [
      "NO it isnt a palindrome\n"
     ]
    }
   ],
   "source": [
    "pal('woter lemon')"
   ]
  },
  {
   "cell_type": "code",
   "execution_count": 60,
   "id": "f62cc902",
   "metadata": {},
   "outputs": [],
   "source": [
    "\n",
    "\n",
    "#Write a Python function to check whether a string is pangram or not. (Assume the string passed in does not have any punctuation)\n",
    "#Pangrams are words or sentences containing every letter of the alphabet at least once. eg : \"The quick brown fox jumps over the lazy dog\"\n",
    "\n",
    "import string #used with 'string.ascii_lowercase' to get all letters of the alphabet\n",
    "def pang(str):\n",
    "    alphabet = string.ascii_lowercase\n",
    "    letters = set(alphabet)\n",
    "    str = str.replace(' ','')\n",
    "    str = str.lower()\n",
    "    str = set(str)\n",
    "    \n",
    "    if str == letters:\n",
    "        print('This phrase contains all letter of the alphabet')\n",
    "    else:\n",
    "        print('no')\n",
    "        \n",
    "        "
   ]
  },
  {
   "cell_type": "code",
   "execution_count": 61,
   "id": "3f9b8c77",
   "metadata": {},
   "outputs": [
    {
     "name": "stdout",
     "output_type": "stream",
     "text": [
      "This phrase contains all letter of the alphabet\n"
     ]
    }
   ],
   "source": [
    "pang('The quick brown fox jumps over the lazy dog')"
   ]
  },
  {
   "cell_type": "code",
   "execution_count": 62,
   "id": "88db663b",
   "metadata": {},
   "outputs": [
    {
     "name": "stdout",
     "output_type": "stream",
     "text": [
      "no\n"
     ]
    }
   ],
   "source": [
    "pang('asdfdsgfhdjkrieuwryaegsv')"
   ]
  },
  {
   "cell_type": "code",
   "execution_count": 63,
   "id": "09a6b5d5",
   "metadata": {},
   "outputs": [
    {
     "name": "stdout",
     "output_type": "stream",
     "text": [
      "This phrase contains all letter of the alphabet\n"
     ]
    }
   ],
   "source": [
    "pang('qwertyuioplkmjnhbgvfcdxsza')"
   ]
  },
  {
   "cell_type": "code",
   "execution_count": null,
   "id": "19eec9b5",
   "metadata": {},
   "outputs": [],
   "source": []
  },
  {
   "cell_type": "code",
   "execution_count": null,
   "id": "bd3bdfef",
   "metadata": {},
   "outputs": [],
   "source": []
  }
 ],
 "metadata": {
  "kernelspec": {
   "display_name": "Python 3 (ipykernel)",
   "language": "python",
   "name": "python3"
  },
  "language_info": {
   "codemirror_mode": {
    "name": "ipython",
    "version": 3
   },
   "file_extension": ".py",
   "mimetype": "text/x-python",
   "name": "python",
   "nbconvert_exporter": "python",
   "pygments_lexer": "ipython3",
   "version": "3.9.12"
  }
 },
 "nbformat": 4,
 "nbformat_minor": 5
}
